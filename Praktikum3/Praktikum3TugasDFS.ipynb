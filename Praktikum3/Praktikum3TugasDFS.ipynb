{
  "nbformat": 4,
  "nbformat_minor": 0,
  "metadata": {
    "colab": {
      "provenance": [],
      "authorship_tag": "ABX9TyPo+juGlfesy8XqUtrP/XfY",
      "include_colab_link": true
    },
    "kernelspec": {
      "name": "python3",
      "display_name": "Python 3"
    },
    "language_info": {
      "name": "python"
    }
  },
  "cells": [
    {
      "cell_type": "markdown",
      "metadata": {
        "id": "view-in-github",
        "colab_type": "text"
      },
      "source": [
        "<a href=\"https://colab.research.google.com/github/alliviaputri04/Prak_KecerdasanBuatan/blob/main/Praktikum3/Praktikum3TugasDFS.ipynb\" target=\"_parent\"><img src=\"https://colab.research.google.com/assets/colab-badge.svg\" alt=\"Open In Colab\"/></a>"
      ]
    },
    {
      "cell_type": "code",
      "execution_count": 1,
      "metadata": {
        "id": "zDSBzy9BnTfq",
        "outputId": "23141cce-1576-42d5-a7c5-b5860819712e",
        "colab": {
          "base_uri": "https://localhost:8080/"
        }
      },
      "outputs": [
        {
          "output_type": "stream",
          "name": "stdout",
          "text": [
            "OUTPUT: S C E H G B A D\n"
          ]
        }
      ],
      "source": [
        "# Definisikan grafik sebagai daftar adjacency\n",
        "graph = {\n",
        "    'S': ['A', 'B', 'C'],\n",
        "    'A': ['S', 'D'],\n",
        "    'B': ['S'],\n",
        "    'C': ['S', 'E'],\n",
        "    'D': ['A'],\n",
        "    'E': ['C', 'G', 'H'],\n",
        "    'G': ['E'],\n",
        "    'H': ['E']\n",
        "}\n",
        "\n",
        "def dfs(graph, start):\n",
        "    stack = [start]\n",
        "    visited = set()\n",
        "    result = []\n",
        "\n",
        "    while stack:\n",
        "        node = stack.pop()\n",
        "        if node not in visited:\n",
        "            visited.add(node)\n",
        "            result.append(node)\n",
        "            stack.extend([neighbor for neighbor in graph[node] if neighbor not in visited])\n",
        "\n",
        "    return result\n",
        "\n",
        "output = dfs(graph, 'S')\n",
        "print(\"OUTPUT:\", ' '.join(output))\n"
      ]
    }
  ]
}