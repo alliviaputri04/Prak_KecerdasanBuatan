{
  "nbformat": 4,
  "nbformat_minor": 0,
  "metadata": {
    "colab": {
      "provenance": [],
      "authorship_tag": "ABX9TyMQ4PadV8MEI5ZGK4ac7eML",
      "include_colab_link": true
    },
    "kernelspec": {
      "name": "python3",
      "display_name": "Python 3"
    },
    "language_info": {
      "name": "python"
    }
  },
  "cells": [
    {
      "cell_type": "markdown",
      "metadata": {
        "id": "view-in-github",
        "colab_type": "text"
      },
      "source": [
        "<a href=\"https://colab.research.google.com/github/alliviaputri04/Prak_KecerdasanBuatan/blob/main/Praktikum3/Praktikum3DFS_G_211_22_0066.ipynb\" target=\"_parent\"><img src=\"https://colab.research.google.com/assets/colab-badge.svg\" alt=\"Open In Colab\"/></a>"
      ]
    },
    {
      "cell_type": "markdown",
      "source": [
        "**TUGAS**"
      ],
      "metadata": {
        "id": "2K6XX7NGe8QD"
      }
    },
    {
      "cell_type": "code",
      "source": [
        "\n",
        "graph = {\n",
        "    'S': ['A', 'B', 'C'],\n",
        "    'A': ['S', 'D'],\n",
        "    'B': ['S'],\n",
        "    'C': ['S', 'E'],\n",
        "    'D': ['A'],\n",
        "    'E': ['C', 'G', 'H'],\n",
        "    'G': ['E'],\n",
        "    'H': ['E']\n",
        "}\n",
        "\n",
        "def dfs(graph, start):\n",
        "    stack = [start]\n",
        "    visited = set()\n",
        "    result = []\n",
        "\n",
        "    while stack:\n",
        "        node = stack.pop()\n",
        "        if node not in visited:\n",
        "            visited.add(node)\n",
        "            result.append(node)\n",
        "            stack.extend([neighbor for neighbor in graph[node] if neighbor not in visited])\n",
        "\n",
        "    return result\n",
        "\n",
        "output = dfs(graph, 'S')\n",
        "print(\"OUTPUT:\", ' '.join(output))\n"
      ],
      "metadata": {
        "colab": {
          "base_uri": "https://localhost:8080/"
        },
        "id": "_W08VBu2e71Y",
        "outputId": "3648917d-99dd-4261-89e8-ac88d7577644"
      },
      "execution_count": 2,
      "outputs": [
        {
          "output_type": "stream",
          "name": "stdout",
          "text": [
            "OUTPUT: S C E H G B A D\n"
          ]
        }
      ]
    },
    {
      "cell_type": "code",
      "execution_count": 1,
      "metadata": {
        "colab": {
          "base_uri": "https://localhost:8080/"
        },
        "id": "Wn3MWL5Xyzv_",
        "outputId": "333e5759-df5e-4523-a690-1dc7e3d65ffe"
      },
      "outputs": [
        {
          "output_type": "stream",
          "name": "stdout",
          "text": [
            "Masukkan awal: A\n",
            "Masukkan Akhir: B\n",
            "['A', 'B']\n"
          ]
        }
      ],
      "source": [
        "peta = {'A':set(['B']),\n",
        "        'B':set(['C','A']),\n",
        "        'C':set(['H','B','I','D']),\n",
        "        'D':set(['C','E','H','F']),\n",
        "        'E':set(['D']),\n",
        "        'F':set(['D','G']),\n",
        "        'G':set(['F','H']),\n",
        "        'H':set(['L','C','G','D']),\n",
        "        'I':set(['C','J','K']),\n",
        "        'J':set(['I']),\n",
        "        'K':set(['L','I']),\n",
        "        'L':set(['K','H'])}\n",
        "\n",
        "def dsf(graph, mulai, goal):\n",
        "  #mengecek semua node\n",
        "  explored = []\n",
        "  #mengecek semua jalur\n",
        "  stack = [[mulai]]\n",
        "\n",
        "  #kembali ke jalur apabila awal adalah tujuan\n",
        "  if mulai == goal:\n",
        "    return \"Awal adalah Tujuan\"\n",
        "\n",
        "  #perulangan sampai dengan semua jalur telah diperiksa\n",
        "  while stack:\n",
        "    #masukkan antrian paling belakang ke variabel jalur\n",
        "    jalur = stack.pop(-1)\n",
        "    #ambil node terakhir dari jalur\n",
        "    node = jalur[-1]\n",
        "\n",
        "    #juka node tidak sama dengan tujuan, maka cek apakah node tidak ada di expored\n",
        "    if node not in explored:\n",
        "      neighbours = graph[node] #Memasukkan semua isi graph node kedalam neighbours\n",
        "      #buat jalur bari dan masukkan ke dalam queue\n",
        "      for neighbour in neighbours: #Cek semua neighbour dari graph node\n",
        "        jalur_baru = list(jalur) #Memasukkan isi dari variabel jalur ke variabel jalur baru\n",
        "        jalur_baru.append(neighbour) #update/tambah isi dari jalur baru dengan neighbour\n",
        "        stack.append(neighbour)\n",
        "\n",
        "        if neighbour == goal:\n",
        "          return jalur_baru\n",
        "\n",
        "    return \"Mohon maaf node yang kalian pilih tidak ada\"\n",
        "\n",
        "\n",
        "awal = input(\"Masukkan awal: \")\n",
        "tujuan = input(\"Masukkan Akhir: \")\n",
        "\n",
        "print(dsf(peta, awal, tujuan))"
      ]
    }
  ]
}