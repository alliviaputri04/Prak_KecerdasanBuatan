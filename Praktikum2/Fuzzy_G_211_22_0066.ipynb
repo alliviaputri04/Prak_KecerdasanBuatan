{
  "nbformat": 4,
  "nbformat_minor": 0,
  "metadata": {
    "colab": {
      "provenance": [],
      "authorship_tag": "ABX9TyMInGHSB0OBbSnwqj3uHnQD",
      "include_colab_link": true
    },
    "kernelspec": {
      "name": "python3",
      "display_name": "Python 3"
    },
    "language_info": {
      "name": "python"
    }
  },
  "cells": [
    {
      "cell_type": "markdown",
      "metadata": {
        "id": "view-in-github",
        "colab_type": "text"
      },
      "source": [
        "<a href=\"https://colab.research.google.com/github/alliviaputri04/Prak_KecerdasanBuatan/blob/main/Praktikum2/Fuzzy_G_211_22_0066.ipynb\" target=\"_parent\"><img src=\"https://colab.research.google.com/assets/colab-badge.svg\" alt=\"Open In Colab\"/></a>"
      ]
    },
    {
      "cell_type": "code",
      "source": [
        "# support Vector Machine\n",
        "# Importing the libraries\n",
        "\n",
        "import numpy as np\n",
        "import matplotlib.pyplot as plt\n",
        "import pandas as pd\n",
        "\n",
        "# Importing the datasets\n",
        "from google.colab import files\n",
        "uploaded = files.upload()\n"
      ],
      "metadata": {
        "colab": {
          "base_uri": "https://localhost:8080/",
          "height": 73
        },
        "id": "tZX-QQVfbupS",
        "outputId": "495d507d-91a6-4a45-a945-bfdc8e8867ad"
      },
      "execution_count": null,
      "outputs": [
        {
          "output_type": "display_data",
          "data": {
            "text/plain": [
              "<IPython.core.display.HTML object>"
            ],
            "text/html": [
              "\n",
              "     <input type=\"file\" id=\"files-4289cabb-c39d-437e-9ed1-8d4c3da49f6f\" name=\"files[]\" multiple disabled\n",
              "        style=\"border:none\" />\n",
              "     <output id=\"result-4289cabb-c39d-437e-9ed1-8d4c3da49f6f\">\n",
              "      Upload widget is only available when the cell has been executed in the\n",
              "      current browser session. Please rerun this cell to enable.\n",
              "      </output>\n",
              "      <script>// Copyright 2017 Google LLC\n",
              "//\n",
              "// Licensed under the Apache License, Version 2.0 (the \"License\");\n",
              "// you may not use this file except in compliance with the License.\n",
              "// You may obtain a copy of the License at\n",
              "//\n",
              "//      http://www.apache.org/licenses/LICENSE-2.0\n",
              "//\n",
              "// Unless required by applicable law or agreed to in writing, software\n",
              "// distributed under the License is distributed on an \"AS IS\" BASIS,\n",
              "// WITHOUT WARRANTIES OR CONDITIONS OF ANY KIND, either express or implied.\n",
              "// See the License for the specific language governing permissions and\n",
              "// limitations under the License.\n",
              "\n",
              "/**\n",
              " * @fileoverview Helpers for google.colab Python module.\n",
              " */\n",
              "(function(scope) {\n",
              "function span(text, styleAttributes = {}) {\n",
              "  const element = document.createElement('span');\n",
              "  element.textContent = text;\n",
              "  for (const key of Object.keys(styleAttributes)) {\n",
              "    element.style[key] = styleAttributes[key];\n",
              "  }\n",
              "  return element;\n",
              "}\n",
              "\n",
              "// Max number of bytes which will be uploaded at a time.\n",
              "const MAX_PAYLOAD_SIZE = 100 * 1024;\n",
              "\n",
              "function _uploadFiles(inputId, outputId) {\n",
              "  const steps = uploadFilesStep(inputId, outputId);\n",
              "  const outputElement = document.getElementById(outputId);\n",
              "  // Cache steps on the outputElement to make it available for the next call\n",
              "  // to uploadFilesContinue from Python.\n",
              "  outputElement.steps = steps;\n",
              "\n",
              "  return _uploadFilesContinue(outputId);\n",
              "}\n",
              "\n",
              "// This is roughly an async generator (not supported in the browser yet),\n",
              "// where there are multiple asynchronous steps and the Python side is going\n",
              "// to poll for completion of each step.\n",
              "// This uses a Promise to block the python side on completion of each step,\n",
              "// then passes the result of the previous step as the input to the next step.\n",
              "function _uploadFilesContinue(outputId) {\n",
              "  const outputElement = document.getElementById(outputId);\n",
              "  const steps = outputElement.steps;\n",
              "\n",
              "  const next = steps.next(outputElement.lastPromiseValue);\n",
              "  return Promise.resolve(next.value.promise).then((value) => {\n",
              "    // Cache the last promise value to make it available to the next\n",
              "    // step of the generator.\n",
              "    outputElement.lastPromiseValue = value;\n",
              "    return next.value.response;\n",
              "  });\n",
              "}\n",
              "\n",
              "/**\n",
              " * Generator function which is called between each async step of the upload\n",
              " * process.\n",
              " * @param {string} inputId Element ID of the input file picker element.\n",
              " * @param {string} outputId Element ID of the output display.\n",
              " * @return {!Iterable<!Object>} Iterable of next steps.\n",
              " */\n",
              "function* uploadFilesStep(inputId, outputId) {\n",
              "  const inputElement = document.getElementById(inputId);\n",
              "  inputElement.disabled = false;\n",
              "\n",
              "  const outputElement = document.getElementById(outputId);\n",
              "  outputElement.innerHTML = '';\n",
              "\n",
              "  const pickedPromise = new Promise((resolve) => {\n",
              "    inputElement.addEventListener('change', (e) => {\n",
              "      resolve(e.target.files);\n",
              "    });\n",
              "  });\n",
              "\n",
              "  const cancel = document.createElement('button');\n",
              "  inputElement.parentElement.appendChild(cancel);\n",
              "  cancel.textContent = 'Cancel upload';\n",
              "  const cancelPromise = new Promise((resolve) => {\n",
              "    cancel.onclick = () => {\n",
              "      resolve(null);\n",
              "    };\n",
              "  });\n",
              "\n",
              "  // Wait for the user to pick the files.\n",
              "  const files = yield {\n",
              "    promise: Promise.race([pickedPromise, cancelPromise]),\n",
              "    response: {\n",
              "      action: 'starting',\n",
              "    }\n",
              "  };\n",
              "\n",
              "  cancel.remove();\n",
              "\n",
              "  // Disable the input element since further picks are not allowed.\n",
              "  inputElement.disabled = true;\n",
              "\n",
              "  if (!files) {\n",
              "    return {\n",
              "      response: {\n",
              "        action: 'complete',\n",
              "      }\n",
              "    };\n",
              "  }\n",
              "\n",
              "  for (const file of files) {\n",
              "    const li = document.createElement('li');\n",
              "    li.append(span(file.name, {fontWeight: 'bold'}));\n",
              "    li.append(span(\n",
              "        `(${file.type || 'n/a'}) - ${file.size} bytes, ` +\n",
              "        `last modified: ${\n",
              "            file.lastModifiedDate ? file.lastModifiedDate.toLocaleDateString() :\n",
              "                                    'n/a'} - `));\n",
              "    const percent = span('0% done');\n",
              "    li.appendChild(percent);\n",
              "\n",
              "    outputElement.appendChild(li);\n",
              "\n",
              "    const fileDataPromise = new Promise((resolve) => {\n",
              "      const reader = new FileReader();\n",
              "      reader.onload = (e) => {\n",
              "        resolve(e.target.result);\n",
              "      };\n",
              "      reader.readAsArrayBuffer(file);\n",
              "    });\n",
              "    // Wait for the data to be ready.\n",
              "    let fileData = yield {\n",
              "      promise: fileDataPromise,\n",
              "      response: {\n",
              "        action: 'continue',\n",
              "      }\n",
              "    };\n",
              "\n",
              "    // Use a chunked sending to avoid message size limits. See b/62115660.\n",
              "    let position = 0;\n",
              "    do {\n",
              "      const length = Math.min(fileData.byteLength - position, MAX_PAYLOAD_SIZE);\n",
              "      const chunk = new Uint8Array(fileData, position, length);\n",
              "      position += length;\n",
              "\n",
              "      const base64 = btoa(String.fromCharCode.apply(null, chunk));\n",
              "      yield {\n",
              "        response: {\n",
              "          action: 'append',\n",
              "          file: file.name,\n",
              "          data: base64,\n",
              "        },\n",
              "      };\n",
              "\n",
              "      let percentDone = fileData.byteLength === 0 ?\n",
              "          100 :\n",
              "          Math.round((position / fileData.byteLength) * 100);\n",
              "      percent.textContent = `${percentDone}% done`;\n",
              "\n",
              "    } while (position < fileData.byteLength);\n",
              "  }\n",
              "\n",
              "  // All done.\n",
              "  yield {\n",
              "    response: {\n",
              "      action: 'complete',\n",
              "    }\n",
              "  };\n",
              "}\n",
              "\n",
              "scope.google = scope.google || {};\n",
              "scope.google.colab = scope.google.colab || {};\n",
              "scope.google.colab._files = {\n",
              "  _uploadFiles,\n",
              "  _uploadFilesContinue,\n",
              "};\n",
              "})(self);\n",
              "</script> "
            ]
          },
          "metadata": {}
        },
        {
          "output_type": "stream",
          "name": "stdout",
          "text": [
            "Saving Data.csv to Data (2).csv\n"
          ]
        }
      ]
    },
    {
      "cell_type": "code",
      "source": [],
      "metadata": {
        "id": "z6eQkDV_k6P0"
      },
      "execution_count": null,
      "outputs": []
    },
    {
      "cell_type": "code",
      "source": [
        "# Import Librari\n",
        "import pandas as pd\n",
        "import numpy as np\n",
        "import random\n",
        "import operator\n",
        "import math"
      ],
      "metadata": {
        "id": "1XnIVhCtbrzG"
      },
      "execution_count": null,
      "outputs": []
    },
    {
      "cell_type": "code",
      "source": [
        "# reading the input csv file\n",
        "df_full = pd.read_csv(\"Data.csv\")\n",
        "columns = list(df_full.columns)\n",
        "features = columns[:len(columns)-1]\n",
        "class_labels = list(df_full[columns[-1]])\n",
        "df = df_full[features]"
      ],
      "metadata": {
        "id": "C6AUfZeLbwtK"
      },
      "execution_count": null,
      "outputs": []
    },
    {
      "cell_type": "code",
      "source": [
        "# Jumlah atribut\n",
        "num_attr = len(df.columns) -1\n",
        "k = 2\n",
        "MAX_ITER = 100\n",
        "n = len(df)\n",
        "m = 2.00"
      ],
      "metadata": {
        "id": "yr0T32sCb1Vd"
      },
      "execution_count": null,
      "outputs": []
    },
    {
      "cell_type": "code",
      "source": [
        "# fungsi akurasi untuk menghitung akurasi dari hasil\n",
        "\n",
        "def accuracy(cluster_labels, class_labels):\n",
        "    county = [0,0]\n",
        "    countn = [0,0]\n",
        "    tp = [0, 0]\n",
        "    tn = [0, 0]\n",
        "    fp = [0, 0]\n",
        "    fn = [0, 0]\n",
        "\n",
        "    for i in range(len(df)):\n",
        "        #Yes = 1, No = 0\n",
        "        if cluster_labels[i] == 1 and class_labels[i] == 'Yes':\n",
        "          tp[0] = tp[0] + 1\n",
        "        if cluster_labels[i] == 0 and class_labels[i] == 'No':\n",
        "          tn[0] = tn[0] + 1\n",
        "        if cluster_labels[i] == 1 and class_labels[i] == 'No':\n",
        "          fp[0]= fp[0] + 1\n",
        "        if cluster_labels[i] == 0 and class_labels[i] == 'Yes':\n",
        "          fn[0]= fn[0] + 1\n",
        "    for i in range(len(df)):\n",
        "\n",
        "        # Yes = 0, No = 1\n",
        "        if cluster_labels[i] == 0 and class_labels[i] == 'Yes':\n",
        "          tp[1] = tp[1] + 1\n",
        "        if cluster_labels[i] == 1 and class_labels[i] == 'No':\n",
        "          tn[1] = tn[1] + 1\n",
        "        if cluster_labels[i] == 0 and class_labels[i] == 'No':\n",
        "          fp[1] = fp[1] +1\n",
        "        if cluster_labels[i] == 1 and class_labels[i] == 'Yes':\n",
        "          fn[1] = fn[1] + 1\n",
        "\n",
        "    a0 = float((tp[0] + tn[0]))/(tp[0] + tn[0] + fn[0] + fp[0])\n",
        "    a1 = float((tp[1] + tn[1]))/(tp[1] + tn[1] + fn[1] + fp[1])\n",
        "    p0 = float(tp[0])/(tp[0] + fp[0])\n",
        "    p1 = float(tp[1])/(tp[1] + fp[1])\n",
        "    r0 = float(tp[0])/(tp[0] + fn[0])\n",
        "    r1 = float(tp[1])/(tp[1] + fn[1])\n",
        "\n",
        "    accuracy = [a0*100, a1*100]\n",
        "    precision = [p0*100,p1*100]\n",
        "    recall = [r0*100, r1*100]\n",
        "\n",
        "    return accuracy, precision, recall"
      ],
      "metadata": {
        "id": "2p6usozdb42O"
      },
      "execution_count": null,
      "outputs": []
    },
    {
      "cell_type": "code",
      "source": [
        "## Inisialisasi jumlah matriks dengan random values\n",
        "def initializeMembershipMatrix():\n",
        "    membership_mat = list()\n",
        "    for i in range(n):\n",
        "        random_num_list = [random.random() for i in range(k)]\n",
        "        summation = sum(random_num_list)\n",
        "        temp_list = [x/summation for x in random_num_list]\n",
        "        membership_mat.append(temp_list)\n",
        "    return membership_mat"
      ],
      "metadata": {
        "id": "mhgaAJX4cUwV"
      },
      "execution_count": null,
      "outputs": []
    },
    {
      "cell_type": "code",
      "source": [
        "## Menghitung pusat cluster dengan setiap interasi\n",
        "def calculateClusterCenter(membership_mat):\n",
        "    cluster_mem_val = zip(*membership_mat)\n",
        "    cluster_centers = list()\n",
        "    for j in range(k):\n",
        "        x = list(zip(*membership_mat))[j]\n",
        "        xraised = [e ** m for e in x]\n",
        "        denominator = sum(xraised)\n",
        "        temp_num = list()\n",
        "        for i in range(n):\n",
        "            data_point = list(df.iloc[i])\n",
        "            prod = [xraised[i] * val for val in data_point]\n",
        "            temp_num.append(prod)\n",
        "        numerator = map(sum, zip(*temp_num))\n",
        "        center = [z/denominator for z in numerator]\n",
        "        cluster_centers.append(center)\n",
        "    return cluster_centers"
      ],
      "metadata": {
        "id": "b_AIFoqOcaHn"
      },
      "execution_count": null,
      "outputs": []
    },
    {
      "cell_type": "code",
      "source": [
        "## Update nilai anggota dengan pusat cluster\n",
        "\n",
        "def updateMembershipValue(membership_mat, cluster_centers):\n",
        "    p = float(2/(m-1))\n",
        "    for i in range(n):\n",
        "        x = list(df.iloc[i])\n",
        "        distances = [np.linalg.norm(np.array(list(map(operator.sub, x, cluster_centers[j])))) for j in range(k)]\n",
        "        for j in range(k):\n",
        "            den = sum([math.pow(float(distances[j]/distances[c]), p) for c in range(k)])\n",
        "            membership_mat[i][j] = float(1/den)\n",
        "    return membership_mat\n",
        "def getClusters(membership_mat):\n",
        "    cluster_labels = list()\n",
        "    for i in range(n):\n",
        "        max_val, idx = max((val, idx) for (idx, val) in enumerate(membership_mat[i]))\n",
        "        cluster_labels.append(idx)\n",
        "    return cluster_labels\n"
      ],
      "metadata": {
        "id": "AeewMYGRcfS9"
      },
      "execution_count": null,
      "outputs": []
    },
    {
      "cell_type": "code",
      "source": [
        "## Final fungsi FCM\n",
        "def fuzzyCMeansClustering():\n",
        "    # Membership Matrix\n",
        "    membership_mat = initializeMembershipMatrix()\n",
        "    curr = 0\n",
        "    while curr <= MAX_ITER:\n",
        "        cluster_centers = calculateClusterCenter(membership_mat)\n",
        "        membership_mat = updateMembershipValue(membership_mat, cluster_centers)\n",
        "        cluster_labels = getClusters(membership_mat)\n",
        "        curr += 1\n",
        "\n",
        "    print(membership_mat)\n",
        "    return cluster_labels, cluster_centers"
      ],
      "metadata": {
        "id": "WSXw0NGgcjmw"
      },
      "execution_count": null,
      "outputs": []
    },
    {
      "cell_type": "code",
      "source": [
        "## Memanggil fungsi utama dan mengirimkan hasil akhir dalam label dan pusat cluster\n",
        "print(\"printing the final membership matrix\")\n",
        "labels, centers = fuzzyCMeansClustering()\n",
        "print(\"printing cluster centers\")\n",
        "print(centers)"
      ],
      "metadata": {
        "colab": {
          "base_uri": "https://localhost:8080/"
        },
        "id": "JpKWwua2coeW",
        "outputId": "a5ed578a-7bfe-488e-b22b-6d5d5ec7260a"
      },
      "execution_count": null,
      "outputs": [
        {
          "output_type": "stream",
          "name": "stdout",
          "text": [
            "printing the final membership matrix\n",
            "[[0.49623285310229565, 0.5037671468977044], [0.5021416426540861, 0.49785835734591394], [0.5003413392189254, 0.4996586607810745], [0.5023963934311378, 0.49760360656886227], [0.4982598428720307, 0.5017401571279694], [0.49526177145740924, 0.5047382285425909], [0.497235304556314, 0.502764695443686], [0.49632800137645905, 0.5036719986235411], [0.4987865736763065, 0.5012134263236935], [0.4950042495420877, 0.5049957504579122], [0.49733041768528646, 0.5026695823147136], [0.4976644016477366, 0.5023355983522634], [0.5008141943134531, 0.49918580568654697], [0.4964931633683879, 0.5035068366316121], [0.49611792250215464, 0.5038820774978453], [0.497866347912611, 0.502133652087389], [0.49463286766619563, 0.5053671323338044], [0.498614381597017, 0.5013856184029829], [0.49907098408911493, 0.500929015910885], [0.5037841122207803, 0.4962158877792197], [0.49595325646665117, 0.5040467435333488], [0.49558263531712454, 0.5044173646828755], [0.5035051634772244, 0.4964948365227756], [0.49671253442663715, 0.5032874655733628], [0.49609171254049317, 0.5039082874595069], [0.49912939388280064, 0.5008706061171994], [0.4975297874520895, 0.5024702125479106], [0.4970464580936395, 0.5029535419063605], [0.4952531468520379, 0.5047468531479621], [0.4937615490620485, 0.5062384509379514], [0.5016545914214952, 0.4983454085785048], [0.5008721502134121, 0.4991278497865879], [0.49386161183524113, 0.5061383881647589], [0.49583373925293217, 0.5041662607470677], [0.4991980060112921, 0.5008019939887078], [0.4966123184252403, 0.5033876815747598], [0.5009254761271502, 0.49907452387284984], [0.503875331936306, 0.4961246680636941], [0.49378999795277523, 0.5062100020472248], [0.4974701036645705, 0.5025298963354295], [0.4946852953088372, 0.5053147046911629], [0.49812956009764525, 0.5018704399023547], [0.4947421046386527, 0.5052578953613474], [0.4970339942337657, 0.5029660057662343], [0.502568394390662, 0.497431605609338], [0.4974799506992367, 0.5025200493007634], [0.4942182798679283, 0.5057817201320717], [0.49617796237911127, 0.5038220376208886], [0.5004101074850287, 0.4995898925149713], [0.5034891323821982, 0.4965108676178019], [0.5030803559250604, 0.4969196440749396], [0.4944872212096897, 0.5055127787903102], [0.5023360592122887, 0.4976639407877113], [0.5028130510276936, 0.4971869489723064], [0.5026533324856083, 0.4973466675143917], [0.49845578015141917, 0.5015442198485809], [0.5026564730819351, 0.49734352691806494], [0.5011692913982584, 0.49883070860174167], [0.4986323140954709, 0.5013676859045292], [0.5005594018093247, 0.4994405981906752], [0.49990094382832184, 0.5000990561716782], [0.49544039340207713, 0.504559606597923], [0.4944220945770278, 0.5055779054229722], [0.49485288045225834, 0.5051471195477415], [0.4945315505823735, 0.5054684494176265], [0.49830810329278324, 0.5016918967072168], [0.49761843834482955, 0.5023815616551704], [0.4984549772586191, 0.5015450227413809], [0.4947532460930686, 0.5052467539069314], [0.4946677920658465, 0.5053322079341536], [0.4962564213912616, 0.5037435786087385], [0.49547550908441057, 0.5045244909155895], [0.4938794230929991, 0.5061205769070009], [0.5000724975179136, 0.4999275024820864], [0.49490558177516397, 0.5050944182248359], [0.5000495922064452, 0.49995040779355493], [0.49975204399616246, 0.5002479560038376], [0.49329024542377264, 0.5067097545762274], [0.5023280241204312, 0.4976719758795688], [0.5034540893770694, 0.4965459106229306], [0.49577009761416757, 0.5042299023858324], [0.49671075118701064, 0.5032892488129893], [0.49371586859733857, 0.5062841314026615], [0.49779639194996, 0.5022036080500399], [0.4949851509379617, 0.5050148490620383], [0.49531350167875815, 0.5046864983212418], [0.49702550130923795, 0.502974498690762], [0.4982119121443442, 0.5017880878556558], [0.4969302154933758, 0.5030697845066242], [0.49486252859399626, 0.5051374714060037], [0.49524303378078605, 0.504756966219214], [0.5031500267411224, 0.49684997325887764], [0.500855899334719, 0.49914410066528114], [0.49521966700746406, 0.504780332992536], [0.49560144053599, 0.50439855946401], [0.5001941714460514, 0.49980582855394856], [0.5013244939622076, 0.49867550603779254], [0.4942783477197683, 0.5057216522802317], [0.49803835684123066, 0.5019616431587693], [0.5011425008045108, 0.4988574991954892], [0.4972441090097762, 0.5027558909902237], [0.5008718571608751, 0.49912814283912477], [0.5009255611010267, 0.49907443889897324], [0.5020293615829918, 0.4979706384170082], [0.4968670993506737, 0.5031329006493263], [0.5016115467745567, 0.49838845322544334], [0.49571911083776543, 0.5042808891622346], [0.5027148493741459, 0.4972851506258541], [0.5005828366512958, 0.4994171633487043], [0.4937199969735886, 0.5062800030264114]]\n",
            "printing cluster centers\n",
            "[[67.45045860707663, 66.85155742201266, 69.48165343132501, 70.21415669229442, 67.16480992398769, 67.17430526244854, 71.32319078514799, 71.20405767170179, 63.89288876120804, 63.504308423638896, 70.07954484075256, 70.68337000953477, 67.96416037499411, 68.96053657166131, 64.14789330031364, 61.88250793718788, 68.40860329999765, 67.35410498256844, 66.53428741357338, 64.36673133527263, 74.26187404950463, 72.93801234005876, 68.3290535469279, 68.05403673507249, 60.15211679097781, 59.19955702776974, 62.806012130560006, 61.63965991147518, 64.25360262093635, 63.33222991478035, 71.66850072330774, 72.15753301764471, 62.13958901666931, 62.39193515194707, 65.38361577976646, 64.80785198530411, 65.72200730484846, 64.89475451911696, 68.8820049333689, 67.48249755923227, 66.02503013142201, 64.24558248974436, 55.52759608922424, 54.079641079097385], [67.4405961354053, 66.85756861346937, 69.50011057578432, 70.25839961258163, 67.19867399392162, 67.24352291165877, 71.33142028116973, 71.23220452938477, 63.90708822316613, 63.53194852518601, 70.08413455671021, 70.69847251761, 68.01738156275212, 69.03908110676883, 64.23342463680292, 62.00767669965541, 68.42771113106467, 67.39116955928384, 66.57451171745693, 64.43294722006577, 74.26543712022367, 72.97092652072789, 68.41592401750589, 68.1816262751938, 60.33773807886881, 59.41734325134619, 62.866465008510524, 61.72357777315384, 64.32791885353764, 63.44905842741328, 71.69504661028618, 72.22399143138996, 62.16937788951409, 62.44416397575421, 65.41624365523585, 64.86460723192228, 65.73254304623255, 64.92336871657173, 68.9720706133291, 67.58971445781268, 66.19218570927623, 64.4622277813424, 55.70773980848124, 54.30086964319009]]\n"
          ]
        }
      ]
    },
    {
      "cell_type": "code",
      "source": [
        "## measuring the accuracy of the result\n",
        "a,p,r = accuracy(labels, class_labels)"
      ],
      "metadata": {
        "id": "ZXWKwBC1ctPq"
      },
      "execution_count": null,
      "outputs": []
    },
    {
      "cell_type": "code",
      "source": [
        "## printing the values\n",
        "print(\"Accuracy = \" + str(a))\n",
        "print(\"Precision = \" + str(p))\n",
        "print(\"Recall = \" + str(r))"
      ],
      "metadata": {
        "colab": {
          "base_uri": "https://localhost:8080/"
        },
        "id": "_jHc0xXAcyV9",
        "outputId": "8c872d04-7f56-4ad1-a5be-e8e4423e00e5"
      },
      "execution_count": null,
      "outputs": [
        {
          "output_type": "stream",
          "name": "stdout",
          "text": [
            "Accuracy = [25.454545454545453, 74.54545454545455]\n",
            "Precision = [32.0, 88.57142857142857]\n",
            "Recall = [43.63636363636363, 56.36363636363636]\n"
          ]
        }
      ]
    }
  ]
}